{
 "cells": [
  {
   "cell_type": "markdown",
   "id": "c76e6241",
   "metadata": {},
   "source": [
    "# Assignment No. 2\n"
   ]
  },
  {
   "cell_type": "markdown",
   "id": "931d7bbd",
   "metadata": {},
   "source": [
    "#Question No. 1:-What are the two values of the Boolean data type? How do you write them?\n",
    "\n",
    "There are two types of Boolean value:\n",
    "    1. True\n",
    "    2. False\n",
    "\n",
    "We write them by the first letter of the value should be capital such as True, False"
   ]
  },
  {
   "cell_type": "markdown",
   "id": "89d13ee5",
   "metadata": {},
   "source": [
    "#Question No. 2:- What are the three different types of Boolean operators?\n",
    "\n",
    "Three types of boolean operator are:\n",
    "    \n",
    "    1. NOT\n",
    "    2. AND\n",
    "    3. OR"
   ]
  },
  {
   "cell_type": "markdown",
   "id": "c20fc835",
   "metadata": {},
   "source": [
    "#Question No. 3:- Make a list of each Boolean operator's truth tables (i.e. every possible combination of Boolean values for the operator and what it evaluate ).\n",
    "\n",
    "For NOT operator:\n",
    "\n",
    "    False not False = True\n",
    "    False not True = True\n",
    "    True not False = False\n",
    "    True not True = False\n",
    "    \n",
    "For AND operator:\n",
    "\n",
    "    False and False = False\n",
    "    False and True = False\n",
    "    True and False = False\n",
    "    True and True = True\n",
    "    \n",
    "For OR operator:\n",
    "\n",
    "    False or False = False\n",
    "    False or True = True\n",
    "    True or False = True\n",
    "    True or True = True\n",
    "    "
   ]
  },
  {
   "cell_type": "code",
   "execution_count": 17,
   "id": "197a8fa1",
   "metadata": {},
   "outputs": [
    {
     "data": {
      "text/plain": [
       "False"
      ]
     },
     "execution_count": 17,
     "metadata": {},
     "output_type": "execute_result"
    }
   ],
   "source": [
    "#Question No. 4:-What are the values of the following expressions?\n",
    "(5 > 4) and (3 == 5)"
   ]
  },
  {
   "cell_type": "code",
   "execution_count": 18,
   "id": "3031f767",
   "metadata": {},
   "outputs": [
    {
     "data": {
      "text/plain": [
       "False"
      ]
     },
     "execution_count": 18,
     "metadata": {},
     "output_type": "execute_result"
    }
   ],
   "source": [
    "not (5 > 4)"
   ]
  },
  {
   "cell_type": "code",
   "execution_count": 19,
   "id": "185df7e6",
   "metadata": {},
   "outputs": [
    {
     "data": {
      "text/plain": [
       "True"
      ]
     },
     "execution_count": 19,
     "metadata": {},
     "output_type": "execute_result"
    }
   ],
   "source": [
    "(5 > 4) or (3 == 5)"
   ]
  },
  {
   "cell_type": "code",
   "execution_count": 20,
   "id": "373aa67a",
   "metadata": {},
   "outputs": [
    {
     "data": {
      "text/plain": [
       "False"
      ]
     },
     "execution_count": 20,
     "metadata": {},
     "output_type": "execute_result"
    }
   ],
   "source": [
    "not ((5 > 4) or (3 == 5))"
   ]
  },
  {
   "cell_type": "code",
   "execution_count": 21,
   "id": "c8f04c4e",
   "metadata": {},
   "outputs": [
    {
     "data": {
      "text/plain": [
       "False"
      ]
     },
     "execution_count": 21,
     "metadata": {},
     "output_type": "execute_result"
    }
   ],
   "source": [
    "(True and True) and (True == False)"
   ]
  },
  {
   "cell_type": "code",
   "execution_count": 22,
   "id": "a807ef00",
   "metadata": {},
   "outputs": [
    {
     "data": {
      "text/plain": [
       "True"
      ]
     },
     "execution_count": 22,
     "metadata": {},
     "output_type": "execute_result"
    }
   ],
   "source": [
    "(not False) or (not True)"
   ]
  },
  {
   "cell_type": "markdown",
   "id": "1e46bd34",
   "metadata": {},
   "source": [
    "#Question No. 5 :- What are the six comparison operators?\n",
    "\n",
    "1. less than ( < )\n",
    "\n",
    "2. less than or equal to ( <= )\n",
    "\n",
    "3. greater than ( > )\n",
    "\n",
    "4. greater than or equal to ( >= )\n",
    "\n",
    "5. equal to ( == )\n",
    "\n",
    "6. not equal to ( != )."
   ]
  },
  {
   "cell_type": "markdown",
   "id": "7d021611",
   "metadata": {},
   "source": [
    "#Question No. 6:- How do you tell the difference between the equal to and assignment operators?Describe a condition and when you would use one.\n",
    "\n",
    "\n",
    "The “=” is an assignment operator is used to assign the value on the right to the variable on the left. The '==' operator checks whether the two given operands are equal or not. If so, it returns true. Otherwise it returns false"
   ]
  },
  {
   "cell_type": "code",
   "execution_count": 23,
   "id": "2526df5a",
   "metadata": {},
   "outputs": [
    {
     "name": "stdout",
     "output_type": "stream",
     "text": [
      "Value of a is  10\n"
     ]
    },
    {
     "data": {
      "text/plain": [
       "False"
      ]
     },
     "execution_count": 23,
     "metadata": {},
     "output_type": "execute_result"
    }
   ],
   "source": [
    "#Example for Question No. 5\n",
    "\n",
    "a = 10\n",
    "b =20\n",
    "\n",
    "print(\"Value of a is \", a)#Example 1\n",
    "\n",
    "a == b#Example 2"
   ]
  },
  {
   "cell_type": "code",
   "execution_count": 24,
   "id": "c5994e41",
   "metadata": {},
   "outputs": [
    {
     "name": "stdout",
     "output_type": "stream",
     "text": [
      "ham\n",
      "spam\n",
      "spam\n"
     ]
    }
   ],
   "source": [
    "#Question No. 7:- Identify the three blocks in this code:\n",
    "\n",
    "spam = 0\n",
    "if spam == 10: \n",
    "    print(\"eggs\")\n",
    "if spam > 5:\n",
    "    print(\"bacon\")\n",
    "else:\n",
    "    print(\"ham\")\n",
    "    print(\"spam\")\n",
    "    print(\"spam\")\n",
    "    \n",
    "    '''First operation will see if the spam == 10 then it will print the given value.\n",
    "    If the value is not equal to given operation then it will move to the next operation '''\n",
    "    \n",
    "    '''Then it will come to second operation, it will see if spam > 5, if the spam > 5 it will print the given value\n",
    "    If the operation is not True then it will move to the next operation'''\n",
    "    \n",
    "    '''If the first two operation is not true then it will print the else operation and the given value'''\n",
    "    \n"
   ]
  },
  {
   "cell_type": "code",
   "execution_count": 25,
   "id": "e5d63e59",
   "metadata": {},
   "outputs": [
    {
     "name": "stdout",
     "output_type": "stream",
     "text": [
      "Hello\n",
      "Howdy\n"
     ]
    }
   ],
   "source": [
    "#Question No. 8:- Write code that prints Hello if 1 is stored in spam, prints Howdy if 2 is stored in spam, and prints Greetings! if anything else is stored in spam.\n",
    "\n",
    "spam =[1,2]\n",
    "if 1 in spam :\n",
    "    print(\"Hello\")\n",
    "if 2 in spam:\n",
    "    print(\"Howdy\")\n",
    "else:\n",
    "    print(\"Greetings\")"
   ]
  },
  {
   "cell_type": "markdown",
   "id": "3c4aff99",
   "metadata": {},
   "source": [
    "#Question No. 9:- \n",
    "\n",
    "If your programme is stuck in an endless loop, what keys you’ll press?\n",
    "\n",
    "Ans - If your programme is stuck in an endless loop then (Ctrl + c) will break the loop"
   ]
  },
  {
   "cell_type": "markdown",
   "id": "b215ee40",
   "metadata": {},
   "source": [
    "#Question No. 10:-\n",
    "\n",
    "How can you tell the difference between break and continue?\n",
    "\n",
    "The difference between break and continue is :\n",
    "    \n",
    "    The difference between both the statements is that when break statement comes, it terminates the execution of the current loop and passes the control over the next loop or main body\n",
    "    \n",
    "    Whereas when continue statement is encountered, it skips the current iteration and executes the very next iteration in the loop\n",
    "    "
   ]
  },
  {
   "cell_type": "markdown",
   "id": "3313c0c9",
   "metadata": {},
   "source": [
    "#Question No. 11:-\n",
    "\n",
    "In a for loop, what is the difference between range(10), range(0, 10), and range(0, 10, 1)?\n",
    "\n",
    "Ans-\n",
    "\n",
    " range(10):- it will print an output of range 0 to 10\n",
    "        \n",
    " range(0,10):- it will print an output of range 0 to 9 in which 10 will not be included\n",
    "\n",
    " range(1,10,1):- it will print an output of range 0 to 9 and it will take a gap of 1 number"
   ]
  },
  {
   "cell_type": "code",
   "execution_count": 26,
   "id": "935cbfb1",
   "metadata": {},
   "outputs": [
    {
     "name": "stdout",
     "output_type": "stream",
     "text": [
      "1\n",
      "2\n",
      "3\n",
      "4\n",
      "5\n",
      "6\n",
      "7\n",
      "8\n",
      "9\n"
     ]
    }
   ],
   "source": [
    "#Question No. 12:- Write a short program that prints the numbers 1 to 10 using a for loop. Then write an equivalent program that prints the numbers 1 to 10 using a while loop.\n",
    "\n",
    "#For Loop\n",
    "\n",
    "\n",
    "for i in range(1,10):\n",
    "    print(i)"
   ]
  },
  {
   "cell_type": "code",
   "execution_count": 7,
   "id": "9355e2aa",
   "metadata": {},
   "outputs": [
    {
     "name": "stdout",
     "output_type": "stream",
     "text": [
      "1\n",
      "2\n",
      "3\n",
      "4\n",
      "5\n",
      "6\n",
      "7\n",
      "8\n",
      "9\n",
      "10\n"
     ]
    }
   ],
   "source": [
    "#While loop\n",
    "\n",
    "i = 1\n",
    "while (i<=10):\n",
    "    print(i)\n",
    "    i = i+1"
   ]
  },
  {
   "cell_type": "code",
   "execution_count": 14,
   "id": "7c8adae2",
   "metadata": {},
   "outputs": [],
   "source": [
    "#Question No. 13:- If you had a function named bacon() inside a module named spam, how would you call it after importing spam?\n",
    "\n",
    "def bacon(spam):\n",
    "    print(spam)\n",
    "    "
   ]
  },
  {
   "cell_type": "code",
   "execution_count": 16,
   "id": "7ecb70e6",
   "metadata": {},
   "outputs": [
    {
     "name": "stdout",
     "output_type": "stream",
     "text": [
      "1\n"
     ]
    }
   ],
   "source": [
    "bacon(1)"
   ]
  },
  {
   "cell_type": "code",
   "execution_count": null,
   "id": "1f468501",
   "metadata": {},
   "outputs": [],
   "source": []
  }
 ],
 "metadata": {
  "kernelspec": {
   "display_name": "Python 3 (ipykernel)",
   "language": "python",
   "name": "python3"
  },
  "language_info": {
   "codemirror_mode": {
    "name": "ipython",
    "version": 3
   },
   "file_extension": ".py",
   "mimetype": "text/x-python",
   "name": "python",
   "nbconvert_exporter": "python",
   "pygments_lexer": "ipython3",
   "version": "3.9.7"
  }
 },
 "nbformat": 4,
 "nbformat_minor": 5
}
